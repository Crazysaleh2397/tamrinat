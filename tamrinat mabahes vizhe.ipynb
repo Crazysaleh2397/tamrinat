{
 "cells": [
  {
   "cell_type": "code",
   "execution_count": 87,
   "id": "d98cffd4",
   "metadata": {},
   "outputs": [
    {
     "name": "stdout",
     "output_type": "stream",
     "text": [
      "نوجوان\n"
     ]
    }
   ],
   "source": [
    "#تمرین سن\n",
    "x = 15\n",
    "if x in range(1, 11):\n",
    "    print(\"کودک است\")\n",
    "elif x in range(10, 16):\n",
    "    print(\"نوجوان\")\n",
    "elif x in range(15, 21):\n",
    "    print(\"جوان\")\n",
    "elif x > 21 :\n",
    "    print(\"بزرگ سال\")\n",
    "elif x < 0:\n",
    "    print(\"این عدد اشتباه است\")"
   ]
  },
  {
   "cell_type": "code",
   "execution_count": 94,
   "id": "90355aff",
   "metadata": {},
   "outputs": [
    {
     "name": "stdout",
     "output_type": "stream",
     "text": [
      "مردود\n"
     ]
    }
   ],
   "source": [
    "#تمرین معدل\n",
    "def moadel (x):\n",
    "    if x in range(-1, 10):\n",
    "        print(\"مردود\")\n",
    "    elif x in range(10, 16):\n",
    "        print(\"خوب\")\n",
    "    elif x in range(15, 21):\n",
    "        print(\"عالی\")\n",
    "    elif x < 0 :\n",
    "        print(\"این عدد خارج از محدوده است\")\n",
    "    elif x > 20:\n",
    "        print(\"این عدد خارج از محدوده است\")\n",
    "moadel(8)"
   ]
  },
  {
   "cell_type": "code",
   "execution_count": 144,
   "id": "d17dd438",
   "metadata": {
    "scrolled": true
   },
   "outputs": [
    {
     "data": {
      "text/plain": [
       "6"
      ]
     },
     "execution_count": 144,
     "metadata": {},
     "output_type": "execute_result"
    }
   ],
   "source": [
    "#تابع بازگشتی فاکتوریل\n",
    "def factorial(x):\n",
    "    if x == 1:\n",
    "        return 1\n",
    "    else:\n",
    "        return x * factorial(x-1)\n",
    "    print(factorial)\n",
    "factorial(3)"
   ]
  },
  {
   "cell_type": "code",
   "execution_count": null,
   "id": "6b5f7f46",
   "metadata": {},
   "outputs": [],
   "source": []
  }
 ],
 "metadata": {
  "kernelspec": {
   "display_name": "Python 3 (ipykernel)",
   "language": "python",
   "name": "python3"
  },
  "language_info": {
   "codemirror_mode": {
    "name": "ipython",
    "version": 3
   },
   "file_extension": ".py",
   "mimetype": "text/x-python",
   "name": "python",
   "nbconvert_exporter": "python",
   "pygments_lexer": "ipython3",
   "version": "3.7.6"
  }
 },
 "nbformat": 4,
 "nbformat_minor": 5
}
